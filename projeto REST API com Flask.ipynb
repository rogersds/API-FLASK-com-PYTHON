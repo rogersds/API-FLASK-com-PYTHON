{
 "cells": [
  {
   "cell_type": "markdown",
   "id": "96de1e20",
   "metadata": {},
   "source": [
    "# Explicando  os conceitos \n",
    "\n",
    " ### API  Aplication programming interface: \n",
    "    Um programa/serviço prestado por alguma empresa ou site que lhe fornece dados através de requisições baseados em suas regras de negócio.\n",
    "    \n",
    " ### REST/RESTful : \n",
    "    É um padrão que explica como é feita a requisição por meio de protocolos web:\n",
    "       GET-> Para pegar a info\n",
    "       POST -> Para Criar a info\n",
    "       PUT(PAth) -> Atualizar uma info\n",
    "       DELETE -> Deletar uma info\n",
    "       \n",
    " ### JSON :\n",
    "     Um simples formsato de texto, um padrão que no python é \n",
    "     essencialmente um DICIONÀRIO."
   ]
  },
  {
   "cell_type": "markdown",
   "id": "b830fa8e",
   "metadata": {},
   "source": [
    "# 2 Formas de Criação de API  em Python\n",
    "    - Django\n",
    "    - Flask -> É o mais remcomendado"
   ]
  },
  {
   "cell_type": "markdown",
   "id": "fb303b0c",
   "metadata": {},
   "source": [
    "### Criar uma API com Flask"
   ]
  },
  {
   "cell_type": "code",
   "execution_count": null,
   "id": "13f8e5d1",
   "metadata": {},
   "outputs": [],
   "source": [
    "from flask import Flask\n",
    "import pandas as pd\n",
    "\n",
    "app = Flask(__name__) # cria o site\n",
    "tabela = pd.read_excel(\"Vendas.xlsx\")\n",
    "\n",
    "@app.route(\"/\") # decorator -> diz em qual link a função vai rodar\n",
    "def fat(): # função\n",
    "    faturamento = float(tabela[\"Valor Final\"].sum())\n",
    "    return {\"faturamento\": faturamento}\n",
    "\n",
    "@app.route(\"/vendas/produtos\") \n",
    "def vendas_produtos(): \n",
    "    tabela_vendas_produtos = tabela[[\"Produto\", \"Valor Final\"]].groupby(\"Produto\").sum()\n",
    "    dic_vendas_produtos = tabela_vendas_produtos.to_dict()\n",
    "    return dic_vendas_produtos\n",
    "\n",
    "@app.route(\"/vendas/produtos/<produto>\") \n",
    "def fat_produto(produto): \n",
    "    tabela_vendas_produtos = tabela[[\"Produto\", \"Valor Final\"]].groupby(\"Produto\").sum()\n",
    "    if produto in tabela_vendas_produtos.index:\n",
    "        vendas_produto = tabela_vendas_produtos.loc[produto]\n",
    "        dic_vendas_produto = vendas_produto.to_dict()\n",
    "        return dic_vendas_produto\n",
    "    else:\n",
    "        return {produto: \"Inexistente\"}\n",
    "    \n",
    "app.run() # no replit use app.run(host=\"0.0.0.0\") # coloca o site no ar"
   ]
  },
  {
   "cell_type": "code",
   "execution_count": null,
   "id": "130352b2",
   "metadata": {},
   "outputs": [],
   "source": [
    "# como nao posso fazer uma requisicao com o programa rodando no mesmo codigo, abro outro codigo e faço a requisicao enquanto a api esta rodando no outro"
   ]
  },
  {
   "cell_type": "code",
   "execution_count": null,
   "id": "99e3add5",
   "metadata": {},
   "outputs": [],
   "source": [
    "\n"
   ]
  },
  {
   "cell_type": "code",
   "execution_count": null,
   "id": "9896cf95",
   "metadata": {},
   "outputs": [],
   "source": []
  }
 ],
 "metadata": {
  "kernelspec": {
   "display_name": "Python 3 (ipykernel)",
   "language": "python",
   "name": "python3"
  },
  "language_info": {
   "codemirror_mode": {
    "name": "ipython",
    "version": 3
   },
   "file_extension": ".py",
   "mimetype": "text/x-python",
   "name": "python",
   "nbconvert_exporter": "python",
   "pygments_lexer": "ipython3",
   "version": "3.10.9"
  }
 },
 "nbformat": 4,
 "nbformat_minor": 5
}
